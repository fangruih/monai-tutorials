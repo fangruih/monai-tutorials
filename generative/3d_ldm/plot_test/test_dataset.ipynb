{
 "cells": [
  {
   "cell_type": "code",
   "execution_count": null,
   "metadata": {},
   "outputs": [],
   "source": [
    "import matplotlib.pyplot as plt\n",
    "import random\n",
    "import create_dataset.HCPT1wDataset\n",
    "\n",
    "def visualize_samples(dataset, num_samples=5):\n",
    "    fig, axes = plt.subplots(1, num_samples, figsize=(20, 4))\n",
    "    for i in range(num_samples):\n",
    "        idx = random.randint(0, len(dataset) - 1)\n",
    "        img = dataset[idx].squeeze()  # Remove channel dimension\n",
    "        axes[i].imshow(img[img.shape[0]//2, :, :], cmap='gray')  # Show middle slice\n",
    "        axes[i].set_title(f\"Sample {idx}\")\n",
    "        axes[i].axis('off')\n",
    "    plt.tight_layout()\n",
    "    plt.show()\n",
    "\n",
    "# Assuming you have created your dataset\n",
    "dataset = HCPT1wDataset(file_list)\n",
    "visualize_samples(dataset)\n"
   ]
  },
  {
   "cell_type": "code",
   "execution_count": 3,
   "metadata": {},
   "outputs": [
    {
     "ename": "KeyboardInterrupt",
     "evalue": "",
     "output_type": "error",
     "traceback": [
      "\u001b[0;31m---------------------------------------------------------------------------\u001b[0m",
      "\u001b[0;31mKeyboardInterrupt\u001b[0m                         Traceback (most recent call last)",
      "Cell \u001b[0;32mIn[3], line 12\u001b[0m\n\u001b[1;32m      9\u001b[0m             print_directory_structure(path, level \u001b[38;5;241m+\u001b[39m \u001b[38;5;241m1\u001b[39m)\n\u001b[1;32m     11\u001b[0m base_dir \u001b[38;5;241m=\u001b[39m \u001b[38;5;124m'\u001b[39m\u001b[38;5;124m/simurgh/group/mri_data/abcd/stru/t1/st2_registered\u001b[39m\u001b[38;5;124m'\u001b[39m  \u001b[38;5;66;03m# Replace with your base directory\u001b[39;00m\n\u001b[0;32m---> 12\u001b[0m \u001b[43mprint_directory_structure\u001b[49m\u001b[43m(\u001b[49m\u001b[43mbase_dir\u001b[49m\u001b[43m)\u001b[49m\n",
      "Cell \u001b[0;32mIn[3], line 5\u001b[0m, in \u001b[0;36mprint_directory_structure\u001b[0;34m(base_dir, level)\u001b[0m\n\u001b[1;32m      3\u001b[0m \u001b[38;5;28;01mdef\u001b[39;00m \u001b[38;5;21mprint_directory_structure\u001b[39m(base_dir, level\u001b[38;5;241m=\u001b[39m\u001b[38;5;241m0\u001b[39m):\n\u001b[1;32m      4\u001b[0m     base_path \u001b[38;5;241m=\u001b[39m Path(base_dir)\n\u001b[0;32m----> 5\u001b[0m     \u001b[38;5;28;01mfor\u001b[39;00m path \u001b[38;5;129;01min\u001b[39;00m \u001b[38;5;28;43msorted\u001b[39;49m\u001b[43m(\u001b[49m\u001b[43mbase_path\u001b[49m\u001b[38;5;241;43m.\u001b[39;49m\u001b[43mrglob\u001b[49m\u001b[43m(\u001b[49m\u001b[38;5;124;43m'\u001b[39;49m\u001b[38;5;124;43m*\u001b[39;49m\u001b[38;5;124;43m'\u001b[39;49m\u001b[43m)\u001b[49m\u001b[43m)\u001b[49m:\n\u001b[1;32m      6\u001b[0m         indent \u001b[38;5;241m=\u001b[39m \u001b[38;5;124m'\u001b[39m\u001b[38;5;124m    \u001b[39m\u001b[38;5;124m'\u001b[39m \u001b[38;5;241m*\u001b[39m level\n\u001b[1;32m      7\u001b[0m         \u001b[38;5;28mprint\u001b[39m(\u001b[38;5;124mf\u001b[39m\u001b[38;5;124m'\u001b[39m\u001b[38;5;132;01m{\u001b[39;00mindent\u001b[38;5;132;01m}\u001b[39;00m\u001b[38;5;132;01m{\u001b[39;00mpath\u001b[38;5;241m.\u001b[39mname\u001b[38;5;132;01m}\u001b[39;00m\u001b[38;5;124m'\u001b[39m)\n",
      "File \u001b[0;32m/simurgh/u/fangruih/miniconda/envs/monai/lib/python3.10/pathlib.py:1047\u001b[0m, in \u001b[0;36mPath.rglob\u001b[0;34m(self, pattern)\u001b[0m\n\u001b[1;32m   1045\u001b[0m     \u001b[38;5;28;01mraise\u001b[39;00m \u001b[38;5;167;01mNotImplementedError\u001b[39;00m(\u001b[38;5;124m\"\u001b[39m\u001b[38;5;124mNon-relative patterns are unsupported\u001b[39m\u001b[38;5;124m\"\u001b[39m)\n\u001b[1;32m   1046\u001b[0m selector \u001b[38;5;241m=\u001b[39m _make_selector((\u001b[38;5;124m\"\u001b[39m\u001b[38;5;124m**\u001b[39m\u001b[38;5;124m\"\u001b[39m,) \u001b[38;5;241m+\u001b[39m \u001b[38;5;28mtuple\u001b[39m(pattern_parts), \u001b[38;5;28mself\u001b[39m\u001b[38;5;241m.\u001b[39m_flavour)\n\u001b[0;32m-> 1047\u001b[0m \u001b[38;5;28;01mfor\u001b[39;00m p \u001b[38;5;129;01min\u001b[39;00m selector\u001b[38;5;241m.\u001b[39mselect_from(\u001b[38;5;28mself\u001b[39m):\n\u001b[1;32m   1048\u001b[0m     \u001b[38;5;28;01myield\u001b[39;00m p\n",
      "File \u001b[0;32m/simurgh/u/fangruih/miniconda/envs/monai/lib/python3.10/pathlib.py:493\u001b[0m, in \u001b[0;36m_RecursiveWildcardSelector._select_from\u001b[0;34m(self, parent_path, is_dir, exists, scandir)\u001b[0m\n\u001b[1;32m    491\u001b[0m successor_select \u001b[38;5;241m=\u001b[39m \u001b[38;5;28mself\u001b[39m\u001b[38;5;241m.\u001b[39msuccessor\u001b[38;5;241m.\u001b[39m_select_from\n\u001b[1;32m    492\u001b[0m \u001b[38;5;28;01mfor\u001b[39;00m starting_point \u001b[38;5;129;01min\u001b[39;00m \u001b[38;5;28mself\u001b[39m\u001b[38;5;241m.\u001b[39m_iterate_directories(parent_path, is_dir, scandir):\n\u001b[0;32m--> 493\u001b[0m     \u001b[38;5;28;01mfor\u001b[39;00m p \u001b[38;5;129;01min\u001b[39;00m successor_select(starting_point, is_dir, exists, scandir):\n\u001b[1;32m    494\u001b[0m         \u001b[38;5;28;01mif\u001b[39;00m p \u001b[38;5;129;01mnot\u001b[39;00m \u001b[38;5;129;01min\u001b[39;00m yielded:\n\u001b[1;32m    495\u001b[0m             \u001b[38;5;28;01myield\u001b[39;00m p\n",
      "File \u001b[0;32m/simurgh/u/fangruih/miniconda/envs/monai/lib/python3.10/pathlib.py:441\u001b[0m, in \u001b[0;36m_WildcardSelector._select_from\u001b[0;34m(self, parent_path, is_dir, exists, scandir)\u001b[0m\n\u001b[1;32m    439\u001b[0m \u001b[38;5;28;01mtry\u001b[39;00m:\n\u001b[1;32m    440\u001b[0m     \u001b[38;5;28;01mwith\u001b[39;00m scandir(parent_path) \u001b[38;5;28;01mas\u001b[39;00m scandir_it:\n\u001b[0;32m--> 441\u001b[0m         entries \u001b[38;5;241m=\u001b[39m \u001b[38;5;28;43mlist\u001b[39;49m\u001b[43m(\u001b[49m\u001b[43mscandir_it\u001b[49m\u001b[43m)\u001b[49m\n\u001b[1;32m    442\u001b[0m     \u001b[38;5;28;01mfor\u001b[39;00m entry \u001b[38;5;129;01min\u001b[39;00m entries:\n\u001b[1;32m    443\u001b[0m         \u001b[38;5;28;01mif\u001b[39;00m \u001b[38;5;28mself\u001b[39m\u001b[38;5;241m.\u001b[39mdironly:\n",
      "\u001b[0;31mKeyboardInterrupt\u001b[0m: "
     ]
    }
   ],
   "source": [
    "from pathlib import Path\n",
    "\n",
    "def print_directory_structure(base_dir, level=0):\n",
    "    base_path = Path(base_dir)\n",
    "    for path in sorted(base_path.rglob('*')):\n",
    "        indent = '    ' * level\n",
    "        print(f'{indent}{path.name}')\n",
    "        if path.is_dir():\n",
    "            print_directory_structure(path, level + 1)\n",
    "\n",
    "base_dir = '/simurgh/group/mri_data/abcd/stru/t1/st2_registered'  # Replace with your base directory\n",
    "print_directory_structure(base_dir)\n"
   ]
  }
 ],
 "metadata": {
  "kernelspec": {
   "display_name": "monai",
   "language": "python",
   "name": "python3"
  },
  "language_info": {
   "codemirror_mode": {
    "name": "ipython",
    "version": 3
   },
   "file_extension": ".py",
   "mimetype": "text/x-python",
   "name": "python",
   "nbconvert_exporter": "python",
   "pygments_lexer": "ipython3",
   "version": "3.10.14"
  }
 },
 "nbformat": 4,
 "nbformat_minor": 2
}
