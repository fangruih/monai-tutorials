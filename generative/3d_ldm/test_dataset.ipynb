{
 "cells": [
  {
   "cell_type": "code",
   "execution_count": null,
   "metadata": {},
   "outputs": [],
   "source": [
    "import matplotlib.pyplot as plt\n",
    "import random\n",
    "import create_dataset.HCPT1wDataset\n",
    "\n",
    "def visualize_samples(dataset, num_samples=5):\n",
    "    fig, axes = plt.subplots(1, num_samples, figsize=(20, 4))\n",
    "    for i in range(num_samples):\n",
    "        idx = random.randint(0, len(dataset) - 1)\n",
    "        img = dataset[idx].squeeze()  # Remove channel dimension\n",
    "        axes[i].imshow(img[img.shape[0]//2, :, :], cmap='gray')  # Show middle slice\n",
    "        axes[i].set_title(f\"Sample {idx}\")\n",
    "        axes[i].axis('off')\n",
    "    plt.tight_layout()\n",
    "    plt.show()\n",
    "\n",
    "# Assuming you have created your dataset\n",
    "dataset = HCPT1wDataset(file_list)\n",
    "visualize_samples(dataset)\n"
   ]
  }
 ],
 "metadata": {
  "kernelspec": {
   "display_name": "monai",
   "language": "python",
   "name": "python3"
  },
  "language_info": {
   "name": "python",
   "version": "3.10.14"
  }
 },
 "nbformat": 4,
 "nbformat_minor": 2
}
